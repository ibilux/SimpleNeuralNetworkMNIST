{
  "nbformat": 4,
  "nbformat_minor": 0,
  "metadata": {
    "colab": {
      "name": "mnist.ipynb",
      "version": "0.3.2",
      "provenance": []
    },
    "kernelspec": {
      "name": "python3",
      "display_name": "Python 3"
    }
  },
  "cells": [
    {
      "metadata": {
        "id": "bgMnvvdfX1_P",
        "colab_type": "code",
        "colab": {}
      },
      "cell_type": "code",
      "source": [
        "import tensorflow as tf\n",
        "import matplotlib.pyplot as plt\n",
        "\n",
        "mnist = tf.keras.datasets.mnist\n",
        "\n",
        "(x_train,y_train),(x_test,y_test) = mnist.load_data()\n",
        "\n",
        "x_train = tf.keras.utils.normalize(x_train, axis=1)\n",
        "x_test = tf.keras.utils.normalize(x_test, axis=1)\n"
      ],
      "execution_count": 0,
      "outputs": []
    },
    {
      "metadata": {
        "id": "WMoWAtm2Z4o1",
        "colab_type": "code",
        "colab": {
          "base_uri": "https://localhost:8080/",
          "height": 347
        },
        "outputId": "6a331852-db2d-4f3c-c267-090d43e789a2"
      },
      "cell_type": "code",
      "source": [
        "plt.imshow(x_test[0])\n",
        "plt.show()"
      ],
      "execution_count": 27,
      "outputs": [
        {
          "output_type": "display_data",
          "data": {
            "image/png": "[encoded data removed]",
            "text/plain": [
              "<matplotlib.figure.Figure at 0x7f49456c0cf8>"
            ]
          },
          "metadata": {
            "tags": []
          }
        }
      ]
    },
    {
      "metadata": {
        "id": "VE5IwzgXavEu",
        "colab_type": "code",
        "colab": {}
      },
      "cell_type": "code",
      "source": [
        "model = tf.keras.models.Sequential()\n",
        "model.add(tf.keras.layers.Flatten())\n",
        "model.add(tf.keras.layers.Dense(128,activation=tf.nn.relu))\n",
        "model.add(tf.keras.layers.Dense(128,activation=tf.nn.relu))\n",
        "model.add(tf.keras.layers.Dense(10,activation=tf.nn.softmax))"
      ],
      "execution_count": 0,
      "outputs": []
    },
    {
      "metadata": {
        "id": "tCJjrTsvbaq3",
        "colab_type": "code",
        "colab": {
          "base_uri": "https://localhost:8080/",
          "height": 228
        },
        "outputId": "38466296-8081-410f-dac1-698f241a96d5"
      },
      "cell_type": "code",
      "source": [
        "model.compile(optimizer=\"adam\",\n",
        "             loss=\"sparse_categorical_crossentropy\",\n",
        "             metrics=['accuracy'])\n",
        "\n",
        "model.fit(x_train,y_train,epochs=5)"
      ],
      "execution_count": 29,
      "outputs": [
        {
          "output_type": "stream",
          "text": [
            "Epoch 1/5\n",
            "60000/60000 [==============================] - 7s 123us/step - loss: 0.2582 - acc: 0.9249\n",
            "Epoch 2/5\n",
            "60000/60000 [==============================] - 7s 117us/step - loss: 0.1054 - acc: 0.9676\n",
            "Epoch 3/5\n",
            "60000/60000 [==============================] - 7s 117us/step - loss: 0.0732 - acc: 0.9769\n",
            "Epoch 4/5\n",
            "60000/60000 [==============================] - 7s 122us/step - loss: 0.0540 - acc: 0.9829\n",
            "Epoch 5/5\n",
            "60000/60000 [==============================] - 7s 120us/step - loss: 0.0404 - acc: 0.9867\n"
          ],
          "name": "stdout"
        },
        {
          "output_type": "execute_result",
          "data": {
            "text/plain": [
              "<tensorflow.python.keras.callbacks.History at 0x7f4945747e10>"
            ]
          },
          "metadata": {
            "tags": []
          },
          "execution_count": 29
        }
      ]
    },
    {
      "metadata": {
        "id": "iRMJdol_cr1W",
        "colab_type": "code",
        "colab": {
          "base_uri": "https://localhost:8080/",
          "height": 52
        },
        "outputId": "ddd71d49-4694-4dbd-e625-18a6212476db"
      },
      "cell_type": "code",
      "source": [
        "var_lost, var_acc = model.evaluate(x_test,y_test)\n",
        "print(var_lost, var_acc)"
      ],
      "execution_count": 30,
      "outputs": [
        {
          "output_type": "stream",
          "text": [
            "10000/10000 [==============================] - 0s 34us/step\n",
            "0.09380324964029714 0.9731\n"
          ],
          "name": "stdout"
        }
      ]
    },
    {
      "metadata": {
        "id": "mnsIvb1Ade5Y",
        "colab_type": "code",
        "colab": {
          "base_uri": "https://localhost:8080/",
          "height": 243
        },
        "outputId": "df05b27d-e9d8-4cf2-f10d-f6717ca1685f"
      },
      "cell_type": "code",
      "source": [
        "prediction = model.predict([x_test])\n",
        "print(prediction)"
      ],
      "execution_count": 31,
      "outputs": [
        {
          "output_type": "stream",
          "text": [
            "[[4.79013565e-11 2.70021255e-10 1.84821658e-06 ... 9.99997854e-01\n",
            "  3.62898267e-10 7.96929029e-08]\n",
            " [1.76479805e-12 2.36431038e-06 9.99997616e-01 ... 8.70417488e-11\n",
            "  4.37988668e-09 3.09674094e-14]\n",
            " [1.37257416e-07 9.99376476e-01 3.16495243e-05 ... 1.32070621e-04\n",
            "  2.38039516e-04 2.20706579e-06]\n",
            " ...\n",
            " [4.45488568e-12 7.37048256e-10 2.10269996e-10 ... 1.95703051e-05\n",
            "  2.25083063e-10 8.84721248e-06]\n",
            " [8.33363814e-08 2.66761742e-08 4.35122232e-08 ... 4.38530014e-06\n",
            "  2.85886017e-05 6.41249853e-09]\n",
            " [8.21167134e-09 5.33025180e-10 9.40653777e-10 ... 2.33877750e-13\n",
            "  1.04800755e-08 2.18853980e-11]]\n"
          ],
          "name": "stdout"
        }
      ]
    },
    {
      "metadata": {
        "id": "5StJJZ0td3oG",
        "colab_type": "code",
        "colab": {}
      },
      "cell_type": "code",
      "source": [
        ""
      ],
      "execution_count": 0,
      "outputs": []
    },
    {
      "metadata": {
        "id": "AjbnMUXfd3zc",
        "colab_type": "code",
        "colab": {
          "base_uri": "https://localhost:8080/",
          "height": 34
        },
        "outputId": "fd008d03-72bd-495f-dcbe-65d4eef1a668"
      },
      "cell_type": "code",
      "source": [
        "import numpy as np\n",
        "print(np.argmax(prediction[5]))"
      ],
      "execution_count": 32,
      "outputs": [
        {
          "output_type": "stream",
          "text": [
            "1\n"
          ],
          "name": "stdout"
        }
      ]
    },
    {
      "metadata": {
        "id": "D2avrOV0eJib",
        "colab_type": "code",
        "colab": {
          "base_uri": "https://localhost:8080/",
          "height": 364
        },
        "outputId": "e64c399e-176c-49b4-f2d8-31eb0e8a3852"
      },
      "cell_type": "code",
      "source": [
        "plt.imshow(x_test[5])\n",
        "plt.show"
      ],
      "execution_count": 33,
      "outputs": [
        {
          "output_type": "execute_result",
          "data": {
            "text/plain": [
              "<function matplotlib.pyplot.show>"
            ]
          },
          "metadata": {
            "tags": []
          },
          "execution_count": 33
        },
        {
          "output_type": "display_data",
          "data": {
            "image/png": "[encoded data removed]",
            "text/plain": [
              "<matplotlib.figure.Figure at 0x7f4945398128>"
            ]
          },
          "metadata": {
            "tags": []
          }
        }
      ]
    }
  ]
}