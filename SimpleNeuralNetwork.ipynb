{
  "nbformat": 4,
  "nbformat_minor": 0,
  "metadata": {
    "colab": {
      "name": "deep_learning.ipynb",
      "version": "0.3.2",
      "provenance": [],
      "collapsed_sections": []
    },
    "kernelspec": {
      "name": "python3",
      "display_name": "Python 3"
    }
  },
  "cells": [
    {
      "metadata": {
        "id": "gRCtHjTaKTnr",
        "colab_type": "code",
        "colab": {}
      },
      "cell_type": "code",
      "source": [
        "import tensorflow as tf\n",
        "from tensorflow.examples.tutorials.mnist import input_data"
      ],
      "execution_count": 0,
      "outputs": []
    },
    {
      "metadata": {
        "id": "yXjU7uETG6xO",
        "colab_type": "code",
        "colab": {
          "base_uri": "https://localhost:8080/",
          "height": 86
        },
        "outputId": "692ea5db-e770-4cc5-a99f-6504cba2e4d6"
      },
      "cell_type": "code",
      "source": [
        "mnist = input_data.read_data_sets(\"/tmp/data\", one_hot=True)"
      ],
      "execution_count": 10,
      "outputs": [
        {
          "output_type": "stream",
          "text": [
            "Extracting /tmp/data/train-images-idx3-ubyte.gz\n",
            "Extracting /tmp/data/train-labels-idx1-ubyte.gz\n",
            "Extracting /tmp/data/t10k-images-idx3-ubyte.gz\n",
            "Extracting /tmp/data/t10k-labels-idx1-ubyte.gz\n"
          ],
          "name": "stdout"
        }
      ]
    },
    {
      "metadata": {
        "id": "Z8lWc0L_Hq9A",
        "colab_type": "code",
        "colab": {}
      },
      "cell_type": "code",
      "source": [
        "n_nodes_hd1 = 500\n",
        "n_nodes_hd2 = 500\n",
        "n_nodes_hd3 = 500"
      ],
      "execution_count": 0,
      "outputs": []
    },
    {
      "metadata": {
        "id": "XtSu1SsKIK2c",
        "colab_type": "code",
        "colab": {}
      },
      "cell_type": "code",
      "source": [
        "n_classes = 10\n",
        "batch_size = 100"
      ],
      "execution_count": 0,
      "outputs": []
    },
    {
      "metadata": {
        "id": "9surkfH6IPnr",
        "colab_type": "code",
        "colab": {}
      },
      "cell_type": "code",
      "source": [
        "x = tf.placeholder(\"float\",[None,784])\n",
        "y = tf.placeholder(\"float\")"
      ],
      "execution_count": 0,
      "outputs": []
    },
    {
      "metadata": {
        "id": "2ZaaJuGXKg7I",
        "colab_type": "code",
        "colab": {}
      },
      "cell_type": "code",
      "source": [
        "def neural_network_model(data):\n",
        "  hidden_1_layer = {\n",
        "      \"weights\":tf.Variable(tf.random_normal([784,n_nodes_hd1])),\n",
        "      \"biases\": tf.Variable(tf.random_normal([n_nodes_hd1]))\n",
        "  }\n",
        "  \n",
        "  hidden_2_layer = {\n",
        "      \"weights\":tf.Variable(tf.random_normal([n_nodes_hd1,n_nodes_hd2])),\n",
        "      \"biases\": tf.Variable(tf.random_normal([n_nodes_hd2]))\n",
        "  }\n",
        "  \n",
        "  hidden_3_layer = {\n",
        "      \"weights\":tf.Variable(tf.random_normal([n_nodes_hd2,n_nodes_hd3])),\n",
        "      \"biases\": tf.Variable(tf.random_normal([n_nodes_hd3]))\n",
        "  }\n",
        "  \n",
        "  output_layer = {\n",
        "      \"weights\":tf.Variable(tf.random_normal([n_nodes_hd3,n_classes])),\n",
        "      \"biases\": tf.Variable(tf.random_normal([n_classes]))\n",
        "  }\n",
        "  \n",
        "  l1 = tf.add(tf.matmul(data, hidden_1_layer[\"weights\"]), hidden_1_layer[\"biases\"])\n",
        "  l1 = tf.nn.relu(l1)\n",
        "  \n",
        "  l2 = tf.add(tf.matmul(l1, hidden_2_layer[\"weights\"]), hidden_2_layer[\"biases\"])\n",
        "  l2 = tf.nn.relu(l2)\n",
        "  \n",
        "  l3 = tf.add(tf.matmul(l2, hidden_3_layer[\"weights\"]), hidden_3_layer[\"biases\"])\n",
        "  l3 = tf.nn.relu(l3)\n",
        "  \n",
        "  output = tf.matmul(l3, output_layer[\"weights\"]) + output_layer[\"biases\"]\n",
        "  \n",
        "  return(output)\n",
        "  "
      ],
      "execution_count": 0,
      "outputs": []
    },
    {
      "metadata": {
        "id": "uqIp0UBAML_H",
        "colab_type": "code",
        "colab": {}
      },
      "cell_type": "code",
      "source": [
        "def train_neural_network(x):\n",
        "  predection = neural_network_model(x)\n",
        "  cost = tf.reduce_mean(tf.nn.softmax_cross_entropy_with_logits(logits=predection,labels=y))\n",
        "  optimizer = tf.train.AdamOptimizer().minimize(cost)\n",
        "  \n",
        "  hm_epochs = 10\n",
        "  \n",
        "  with tf.Session() as sess:\n",
        "    sess.run(tf.initialize_all_variables())\n",
        "    \n",
        "    # Training\n",
        "    for epoch in range(hm_epochs):\n",
        "      epoch_loss = 0\n",
        "      for _ in range(int(mnist.train.num_examples/batch_size)):\n",
        "        px,py = mnist.train.next_batch(batch_size)\n",
        "        _,c = sess.run([optimizer,cost], feed_dict={\n",
        "            x:px,\n",
        "            y:py\n",
        "        })\n",
        "        epoch_loss += c\n",
        "      print(\"Epoch\", epoch, ' completed out of ', hm_epochs, \"loss : \",epoch_loss)\n",
        "    \n",
        "    correct = tf.equal(tf.argmax(predection,1),tf.argmax(predection,1))\n",
        "    accuracy = tf.reduce_mean(tf.cast(correct,'float'))\n",
        "    print(\"Accuracy: \",accuracy.eval({\n",
        "        x:mnist.test.images,\n",
        "        y:mnist.test.labels\n",
        "    }))\n",
        "    \n",
        "      "
      ],
      "execution_count": 0,
      "outputs": []
    },
    {
      "metadata": {
        "id": "qVIXaLOxPqfU",
        "colab_type": "code",
        "colab": {
          "base_uri": "https://localhost:8080/",
          "height": 208
        },
        "outputId": "b15a3635-4a17-4c34-937e-179685ae14b6"
      },
      "cell_type": "code",
      "source": [
        "train_neural_network(x)"
      ],
      "execution_count": 23,
      "outputs": [
        {
          "output_type": "stream",
          "text": [
            "Epoch 0  completed out of  10 loss :  1660614.6386413574\n",
            "Epoch 1  completed out of  10 loss :  397861.6547317505\n",
            "Epoch 2  completed out of  10 loss :  214299.03666305542\n",
            "Epoch 3  completed out of  10 loss :  122142.4647718817\n",
            "Epoch 4  completed out of  10 loss :  71917.935762043\n",
            "Epoch 5  completed out of  10 loss :  45020.110297590494\n",
            "Epoch 6  completed out of  10 loss :  31373.78465887664\n",
            "Epoch 7  completed out of  10 loss :  23802.923578897717\n",
            "Epoch 8  completed out of  10 loss :  19663.830826658006\n",
            "Epoch 9  completed out of  10 loss :  18838.71027520299\n",
            "Accuracy:  1.0\n"
          ],
          "name": "stdout"
        }
      ]
    }
  ]
}